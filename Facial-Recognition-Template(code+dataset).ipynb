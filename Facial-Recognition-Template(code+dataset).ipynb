{
  "nbformat": 4,
  "nbformat_minor": 0,
  "metadata": {
    "colab": {
      "provenance": [],
      "gpuType": "T4"
    },
    "kernelspec": {
      "name": "python3",
      "display_name": "Python 3"
    },
    "language_info": {
      "name": "python"
    },
    "accelerator": "GPU"
  },
  "cells": [
    {
      "cell_type": "markdown",
      "source": [
        "**EmotionNet**\n",
        "\n",
        "Facial Emotion Recognition\n",
        "\n",
        "(FER-2013-https://www.kaggle.com/datasets/msambare/fer2013)\n"
      ],
      "metadata": {
        "id": "5AQyiFoMoH2_"
      }
    },
    {
      "cell_type": "code",
      "execution_count": null,
      "metadata": {
        "colab": {
          "base_uri": "https://localhost:8080/"
        },
        "id": "CupW46bNOQ-u",
        "outputId": "42ce7734-642c-462c-8d8b-9ce52d44d9dd"
      },
      "outputs": [
        {
          "output_type": "stream",
          "name": "stdout",
          "text": [
            "Drive already mounted at /content/drive; to attempt to forcibly remount, call drive.mount(\"/content/drive\", force_remount=True).\n"
          ]
        }
      ],
      "source": [
        "from google.colab import drive\n",
        "drive.mount('/content/drive')"
      ]
    },
    {
      "cell_type": "code",
      "source": [
        "# Install required packages\n",
        "!pip install tensorflow keras opencv-python matplotlib\n",
        "\n",
        "# Import necessary libraries for the project\n",
        "import numpy as np                # For numerical operations (e.g., arrays)\n",
        "import tensorflow as tf           # Import TensorFlow for machine learning tasks\n",
        "from tensorflow.keras.models import Sequential    # Import Sequential model for building neural networks\n",
        "from tensorflow.keras.layers import Conv2D, MaxPooling2D, Flatten, Dense, Dropout  # Import specific layers for the model\n",
        "from tensorflow.keras.preprocessing.image import ImageDataGenerator  # For data augmentation\n",
        "import matplotlib.pyplot as plt   # For plotting graphs and images\n",
        "import cv2                        # For image processing tasks\n",
        "import os                         # For interacting with the file system (e.g., directories)\n"
      ],
      "metadata": {
        "colab": {
          "base_uri": "https://localhost:8080/"
        },
        "id": "Ft53eotCOZz6",
        "outputId": "9658336d-9ae6-4732-eed2-7da27fcf673b"
      },
      "execution_count": null,
      "outputs": [
        {
          "output_type": "stream",
          "name": "stdout",
          "text": [
            "Requirement already satisfied: tensorflow in /usr/local/lib/python3.10/dist-packages (2.17.1)\n",
            "Requirement already satisfied: keras in /usr/local/lib/python3.10/dist-packages (3.5.0)\n",
            "Requirement already satisfied: opencv-python in /usr/local/lib/python3.10/dist-packages (4.10.0.84)\n",
            "Requirement already satisfied: matplotlib in /usr/local/lib/python3.10/dist-packages (3.8.0)\n",
            "Requirement already satisfied: absl-py>=1.0.0 in /usr/local/lib/python3.10/dist-packages (from tensorflow) (1.4.0)\n",
            "Requirement already satisfied: astunparse>=1.6.0 in /usr/local/lib/python3.10/dist-packages (from tensorflow) (1.6.3)\n",
            "Requirement already satisfied: flatbuffers>=24.3.25 in /usr/local/lib/python3.10/dist-packages (from tensorflow) (24.3.25)\n",
            "Requirement already satisfied: gast!=0.5.0,!=0.5.1,!=0.5.2,>=0.2.1 in /usr/local/lib/python3.10/dist-packages (from tensorflow) (0.6.0)\n",
            "Requirement already satisfied: google-pasta>=0.1.1 in /usr/local/lib/python3.10/dist-packages (from tensorflow) (0.2.0)\n",
            "Requirement already satisfied: h5py>=3.10.0 in /usr/local/lib/python3.10/dist-packages (from tensorflow) (3.12.1)\n",
            "Requirement already satisfied: libclang>=13.0.0 in /usr/local/lib/python3.10/dist-packages (from tensorflow) (18.1.1)\n",
            "Requirement already satisfied: ml-dtypes<0.5.0,>=0.3.1 in /usr/local/lib/python3.10/dist-packages (from tensorflow) (0.4.1)\n",
            "Requirement already satisfied: opt-einsum>=2.3.2 in /usr/local/lib/python3.10/dist-packages (from tensorflow) (3.4.0)\n",
            "Requirement already satisfied: packaging in /usr/local/lib/python3.10/dist-packages (from tensorflow) (24.2)\n",
            "Requirement already satisfied: protobuf!=4.21.0,!=4.21.1,!=4.21.2,!=4.21.3,!=4.21.4,!=4.21.5,<5.0.0dev,>=3.20.3 in /usr/local/lib/python3.10/dist-packages (from tensorflow) (4.25.5)\n",
            "Requirement already satisfied: requests<3,>=2.21.0 in /usr/local/lib/python3.10/dist-packages (from tensorflow) (2.32.3)\n",
            "Requirement already satisfied: setuptools in /usr/local/lib/python3.10/dist-packages (from tensorflow) (75.1.0)\n",
            "Requirement already satisfied: six>=1.12.0 in /usr/local/lib/python3.10/dist-packages (from tensorflow) (1.16.0)\n",
            "Requirement already satisfied: termcolor>=1.1.0 in /usr/local/lib/python3.10/dist-packages (from tensorflow) (2.5.0)\n",
            "Requirement already satisfied: typing-extensions>=3.6.6 in /usr/local/lib/python3.10/dist-packages (from tensorflow) (4.12.2)\n",
            "Requirement already satisfied: wrapt>=1.11.0 in /usr/local/lib/python3.10/dist-packages (from tensorflow) (1.16.0)\n",
            "Requirement already satisfied: grpcio<2.0,>=1.24.3 in /usr/local/lib/python3.10/dist-packages (from tensorflow) (1.68.0)\n",
            "Requirement already satisfied: tensorboard<2.18,>=2.17 in /usr/local/lib/python3.10/dist-packages (from tensorflow) (2.17.1)\n",
            "Requirement already satisfied: tensorflow-io-gcs-filesystem>=0.23.1 in /usr/local/lib/python3.10/dist-packages (from tensorflow) (0.37.1)\n",
            "Requirement already satisfied: numpy<2.0.0,>=1.23.5 in /usr/local/lib/python3.10/dist-packages (from tensorflow) (1.26.4)\n",
            "Requirement already satisfied: rich in /usr/local/lib/python3.10/dist-packages (from keras) (13.9.4)\n",
            "Requirement already satisfied: namex in /usr/local/lib/python3.10/dist-packages (from keras) (0.0.8)\n",
            "Requirement already satisfied: optree in /usr/local/lib/python3.10/dist-packages (from keras) (0.13.1)\n",
            "Requirement already satisfied: contourpy>=1.0.1 in /usr/local/lib/python3.10/dist-packages (from matplotlib) (1.3.1)\n",
            "Requirement already satisfied: cycler>=0.10 in /usr/local/lib/python3.10/dist-packages (from matplotlib) (0.12.1)\n",
            "Requirement already satisfied: fonttools>=4.22.0 in /usr/local/lib/python3.10/dist-packages (from matplotlib) (4.55.0)\n",
            "Requirement already satisfied: kiwisolver>=1.0.1 in /usr/local/lib/python3.10/dist-packages (from matplotlib) (1.4.7)\n",
            "Requirement already satisfied: pillow>=6.2.0 in /usr/local/lib/python3.10/dist-packages (from matplotlib) (11.0.0)\n",
            "Requirement already satisfied: pyparsing>=2.3.1 in /usr/local/lib/python3.10/dist-packages (from matplotlib) (3.2.0)\n",
            "Requirement already satisfied: python-dateutil>=2.7 in /usr/local/lib/python3.10/dist-packages (from matplotlib) (2.8.2)\n",
            "Requirement already satisfied: wheel<1.0,>=0.23.0 in /usr/local/lib/python3.10/dist-packages (from astunparse>=1.6.0->tensorflow) (0.45.0)\n",
            "Requirement already satisfied: charset-normalizer<4,>=2 in /usr/local/lib/python3.10/dist-packages (from requests<3,>=2.21.0->tensorflow) (3.4.0)\n",
            "Requirement already satisfied: idna<4,>=2.5 in /usr/local/lib/python3.10/dist-packages (from requests<3,>=2.21.0->tensorflow) (3.10)\n",
            "Requirement already satisfied: urllib3<3,>=1.21.1 in /usr/local/lib/python3.10/dist-packages (from requests<3,>=2.21.0->tensorflow) (2.2.3)\n",
            "Requirement already satisfied: certifi>=2017.4.17 in /usr/local/lib/python3.10/dist-packages (from requests<3,>=2.21.0->tensorflow) (2024.8.30)\n",
            "Requirement already satisfied: markdown>=2.6.8 in /usr/local/lib/python3.10/dist-packages (from tensorboard<2.18,>=2.17->tensorflow) (3.7)\n",
            "Requirement already satisfied: tensorboard-data-server<0.8.0,>=0.7.0 in /usr/local/lib/python3.10/dist-packages (from tensorboard<2.18,>=2.17->tensorflow) (0.7.2)\n",
            "Requirement already satisfied: werkzeug>=1.0.1 in /usr/local/lib/python3.10/dist-packages (from tensorboard<2.18,>=2.17->tensorflow) (3.1.3)\n",
            "Requirement already satisfied: markdown-it-py>=2.2.0 in /usr/local/lib/python3.10/dist-packages (from rich->keras) (3.0.0)\n",
            "Requirement already satisfied: pygments<3.0.0,>=2.13.0 in /usr/local/lib/python3.10/dist-packages (from rich->keras) (2.18.0)\n",
            "Requirement already satisfied: mdurl~=0.1 in /usr/local/lib/python3.10/dist-packages (from markdown-it-py>=2.2.0->rich->keras) (0.1.2)\n",
            "Requirement already satisfied: MarkupSafe>=2.1.1 in /usr/local/lib/python3.10/dist-packages (from werkzeug>=1.0.1->tensorboard<2.18,>=2.17->tensorflow) (3.0.2)\n"
          ]
        }
      ]
    },
    {
      "cell_type": "code",
      "source": [
        "# Import necessary libraries for file handling and splitting dataset\n",
        "import os                             # For interacting with the file system (directories, file operations)\n",
        "import shutil                         # For moving files between directories\n",
        "from sklearn.model_selection import train_test_split   # For splitting dataset into train and validation sets\n",
        "\n",
        "# Define the paths to the training and validation directories\n",
        "train_dir = \"/content/drive/MyDrive/cvpr project/train\"            # Path to the training dataset\n",
        "validation_dir = \"/content/drive/MyDrive/emotion-detection/validation\"  # Path to the validation dataset\n",
        "\n",
        "# Create the validation directory if it doesn't exist\n",
        "os.makedirs(validation_dir, exist_ok=True)\n",
        "\n",
        "# Get the list of class directories from the training set\n",
        "class_dirs = os.listdir(train_dir)  # List of directories (each representing a class of images)\n",
        "\n",
        "# Loop over each class directory\n",
        "for class_name in class_dirs:\n",
        "    # Construct the path to the current class directory within the training data\n",
        "    class_path = os.path.join(train_dir, class_name)\n",
        "\n",
        "    # Get all image files in the current class directory\n",
        "    images = os.listdir(class_path)\n",
        "\n",
        "    # If the directory is empty, skip it and print a message\n",
        "    if len(images) == 0:\n",
        "        print(f\"Skipping empty directory: {class_path}\")\n",
        "        continue\n",
        "\n",
        "    # Split the images into training and validation sets (80% train, 20% validation)\n",
        "    train_images, val_images = train_test_split(images, test_size=0.2, random_state=42)\n",
        "\n",
        "    # Create a directory for the class in the validation folder if it doesn't exist\n",
        "    val_class_dir = os.path.join(validation_dir, class_name)\n",
        "    os.makedirs(val_class_dir, exist_ok=True)\n",
        "\n",
        "    # Move the images selected for validation into the validation directory\n",
        "    for img in val_images:\n",
        "        # Construct the full paths for the source (training set) and destination (validation set)\n",
        "        src_path = os.path.join(class_path, img)\n",
        "        dst_path = os.path.join(val_class_dir, img)\n",
        "\n",
        "        # Move the image from training to validation set\n",
        "        shutil.move(src_path, dst_path)  # Move the file from the training set to the validation set\n"
      ],
      "metadata": {
        "id": "dr66fmqnOm3j"
      },
      "execution_count": null,
      "outputs": []
    },
    {
      "cell_type": "code",
      "source": [
        "# Define the paths for the training and validation datasets\n",
        "train_dir = \"/content/drive/MyDrive/cvpr project/train\"            # Path to the training dataset\n",
        "validation_dir = \"/content/drive/MyDrive/emotion-detection/validation\"  # Path to the validation dataset\n",
        "\n",
        "# Create an instance of ImageDataGenerator for the training dataset\n",
        "train_datagen = ImageDataGenerator(\n",
        "    rescale=1./255,                  # Rescale the pixel values to the range [0, 1]\n",
        "    rotation_range=30,               # Randomly rotate images in the range (30 degrees)\n",
        "    width_shift_range=0.2,           # Randomly shift images horizontally by 20%\n",
        "    height_shift_range=0.2,          # Randomly shift images vertically by 20%\n",
        "    shear_range=0.2,                 # Randomly apply shear transformations to the images\n",
        "    zoom_range=0.2,                  # Randomly zoom into images by 20%\n",
        "    horizontal_flip=True             # Randomly flip images horizontally\n",
        ")\n",
        "\n",
        "# Create an instance of ImageDataGenerator for the validation dataset (only rescaling)\n",
        "validation_datagen = ImageDataGenerator(rescale=1./255)  # Only rescale pixel values for validation\n",
        "\n",
        "# Create the training data generator that will load and augment images in batches from the training directory\n",
        "train_generator = train_datagen.flow_from_directory(\n",
        "    train_dir,                    # Path to the training dataset directory\n",
        "    target_size=(48, 48),         # Resize images to 48x48 pixels\n",
        "    batch_size=64,                # Number of images to process in each batch\n",
        "    color_mode='grayscale',       # Convert images to grayscale (1 channel)\n",
        "    class_mode='categorical'      # Use categorical labels (one-hot encoding for class labels)\n",
        ")\n",
        "\n",
        "# Create the validation data generator that will load images in batches from the validation directory\n",
        "validation_generator = validation_datagen.flow_from_directory(\n",
        "    validation_dir,               # Path to the validation dataset directory\n",
        "    target_size=(48, 48),         # Resize images to 48x48 pixels\n",
        "    batch_size=64,                # Number of images to process in each batch\n",
        "    color_mode='grayscale',       # Convert images to grayscale (1 channel)\n",
        "    class_mode='categorical'      # Use categorical labels (one-hot encoding for class labels)\n",
        ")\n"
      ],
      "metadata": {
        "colab": {
          "base_uri": "https://localhost:8080/"
        },
        "id": "xp4tLsHzaPqz",
        "outputId": "ceb26fda-ee97-421d-8eca-4b36744fa263"
      },
      "execution_count": null,
      "outputs": [
        {
          "output_type": "stream",
          "name": "stdout",
          "text": [
            "Found 22965 images belonging to 7 classes.\n",
            "Found 5744 images belonging to 7 classes.\n"
          ]
        }
      ]
    },
    {
      "cell_type": "code",
      "source": [
        "# Import ImageDataGenerator from Keras for data augmentation and preprocessing\n",
        "train_datagen = ImageDataGenerator(\n",
        "    # Rescale pixel values to the range [0, 1]\n",
        "    rescale=1./255,\n",
        "\n",
        "    # Set aside 20% of the data for validation (validation split)\n",
        "    validation_split=0.2,\n",
        "\n",
        "    # Apply random rotation to images (up to 30 degrees)\n",
        "    rotation_range=30,\n",
        "\n",
        "    # Apply random horizontal or vertical shifts within 20% of the image width\n",
        "    width_shift_range=0.2,\n",
        "\n",
        "    # Apply random vertical shifts within 20% of the image height\n",
        "    height_shift_range=0.2,\n",
        "\n",
        "    # Apply random shear transformation (shear angle up to 20%)\n",
        "    shear_range=0.2,\n",
        "\n",
        "    # Apply random zoom transformation (zoom within 20% of original size)\n",
        "    zoom_range=0.2,\n",
        "\n",
        "    # Randomly flip images horizontally\n",
        "    horizontal_flip=True\n",
        ")\n",
        "\n",
        "# Generator for the training set with augmented data\n",
        "train_generator = train_datagen.flow_from_directory(\n",
        "    train_dir,  # Path to the directory where the training images are stored\n",
        "    target_size=(48, 48),  # Resize images to 48x48 pixels\n",
        "    batch_size=64,  # Number of images to process in each batch\n",
        "    color_mode='grayscale',  # Load images in grayscale\n",
        "    class_mode='categorical',  # Use categorical labels for classification\n",
        "    subset='training'  # Indicate that this is for the training subset (defined by validation_split)\n",
        ")\n",
        "\n",
        "# Generator for the validation set (data split based on validation_split parameter)\n",
        "validation_generator = train_datagen.flow_from_directory(\n",
        "    train_dir,  # Path to the directory where the validation images are stored\n",
        "    target_size=(48, 48),  # Resize images to 48x48 pixels\n",
        "    batch_size=64,  # Number of images to process in each batch\n",
        "    color_mode='grayscale',  # Load images in grayscale\n",
        "    class_mode='categorical',  # Use categorical labels for classification\n",
        "    subset='validation'  # Indicate that this is for the validation subset (defined by validation_split)\n",
        ")\n"
      ],
      "metadata": {
        "colab": {
          "base_uri": "https://localhost:8080/"
        },
        "id": "nSQdOO_RaU-8",
        "outputId": "0ce168d9-bf3b-4dfc-b838-a0fb7bdc738b"
      },
      "execution_count": null,
      "outputs": [
        {
          "output_type": "stream",
          "name": "stdout",
          "text": [
            "Found 18375 images belonging to 7 classes.\n",
            "Found 4590 images belonging to 7 classes.\n"
          ]
        }
      ]
    },
    {
      "cell_type": "code",
      "source": [
        "# Initialize a Sequential model\n",
        "model = Sequential([\n",
        "\n",
        "    # First Convolutional Layer: 32 filters, 3x3 kernel, ReLU activation function\n",
        "    # Input shape is (48, 48, 1) for grayscale images of size 48x48\n",
        "    Conv2D(32, (3, 3), activation='relu', input_shape=(48, 48, 1)),\n",
        "\n",
        "    # MaxPooling Layer: Reduces the spatial dimensions (downsampling) by taking the max value in each 2x2 pool\n",
        "    MaxPooling2D(pool_size=(2, 2)),\n",
        "\n",
        "    # Second Convolutional Layer: 64 filters, 3x3 kernel, ReLU activation function\n",
        "    Conv2D(64, (3, 3), activation='relu'),\n",
        "\n",
        "    # MaxPooling Layer: Similar to the previous MaxPooling layer\n",
        "    MaxPooling2D(pool_size=(2, 2)),\n",
        "\n",
        "    # Third Convolutional Layer: 128 filters, 3x3 kernel, ReLU activation function\n",
        "    Conv2D(128, (3, 3), activation='relu'),\n",
        "\n",
        "    # MaxPooling Layer: Reduces spatial size after third convolutional layer\n",
        "    MaxPooling2D(pool_size=(2, 2)),\n",
        "\n",
        "    # Flatten Layer: Converts the 3D feature maps into a 1D vector to be passed to the fully connected (Dense) layer\n",
        "    Flatten(),\n",
        "\n",
        "    # Fully Connected Layer (Dense): 128 neurons, ReLU activation function\n",
        "    Dense(128, activation='relu'),\n",
        "\n",
        "    # Dropout Layer: 50% of the neurons are randomly turned off to prevent overfitting\n",
        "    Dropout(0.5),\n",
        "\n",
        "    # Output Layer: 7 neurons for 7 classes (multi-class classification), softmax activation for probability distribution\n",
        "    Dense(7, activation='softmax')\n",
        "])\n",
        "\n",
        "# Compile the model with the Adam optimizer, categorical cross-entropy loss, and accuracy metric\n",
        "model.compile(optimizer='adam',\n",
        "              loss='categorical_crossentropy',\n",
        "              metrics=['accuracy'])\n",
        "\n",
        "# Print the summary of the model architecture\n",
        "model.summary()\n"
      ],
      "metadata": {
        "colab": {
          "base_uri": "https://localhost:8080/",
          "height": 513
        },
        "id": "KtZ79mRKaV-c",
        "outputId": "2e05fdea-af03-4b64-edc0-e400f9d89d52"
      },
      "execution_count": null,
      "outputs": [
        {
          "output_type": "stream",
          "name": "stderr",
          "text": [
            "/usr/local/lib/python3.10/dist-packages/keras/src/layers/convolutional/base_conv.py:107: UserWarning: Do not pass an `input_shape`/`input_dim` argument to a layer. When using Sequential models, prefer using an `Input(shape)` object as the first layer in the model instead.\n",
            "  super().__init__(activity_regularizer=activity_regularizer, **kwargs)\n"
          ]
        },
        {
          "output_type": "display_data",
          "data": {
            "text/plain": [
              "\u001b[1mModel: \"sequential\"\u001b[0m\n"
            ],
            "text/html": [
              "<pre style=\"white-space:pre;overflow-x:auto;line-height:normal;font-family:Menlo,'DejaVu Sans Mono',consolas,'Courier New',monospace\"><span style=\"font-weight: bold\">Model: \"sequential\"</span>\n",
              "</pre>\n"
            ]
          },
          "metadata": {}
        },
        {
          "output_type": "display_data",
          "data": {
            "text/plain": [
              "┏━━━━━━━━━━━━━━━━━━━━━━━━━━━━━━━━━━━━━━┳━━━━━━━━━━━━━━━━━━━━━━━━━━━━━┳━━━━━━━━━━━━━━━━━┓\n",
              "┃\u001b[1m \u001b[0m\u001b[1mLayer (type)                        \u001b[0m\u001b[1m \u001b[0m┃\u001b[1m \u001b[0m\u001b[1mOutput Shape               \u001b[0m\u001b[1m \u001b[0m┃\u001b[1m \u001b[0m\u001b[1m        Param #\u001b[0m\u001b[1m \u001b[0m┃\n",
              "┡━━━━━━━━━━━━━━━━━━━━━━━━━━━━━━━━━━━━━━╇━━━━━━━━━━━━━━━━━━━━━━━━━━━━━╇━━━━━━━━━━━━━━━━━┩\n",
              "│ conv2d (\u001b[38;5;33mConv2D\u001b[0m)                      │ (\u001b[38;5;45mNone\u001b[0m, \u001b[38;5;34m46\u001b[0m, \u001b[38;5;34m46\u001b[0m, \u001b[38;5;34m32\u001b[0m)          │             \u001b[38;5;34m320\u001b[0m │\n",
              "├──────────────────────────────────────┼─────────────────────────────┼─────────────────┤\n",
              "│ max_pooling2d (\u001b[38;5;33mMaxPooling2D\u001b[0m)         │ (\u001b[38;5;45mNone\u001b[0m, \u001b[38;5;34m23\u001b[0m, \u001b[38;5;34m23\u001b[0m, \u001b[38;5;34m32\u001b[0m)          │               \u001b[38;5;34m0\u001b[0m │\n",
              "├──────────────────────────────────────┼─────────────────────────────┼─────────────────┤\n",
              "│ conv2d_1 (\u001b[38;5;33mConv2D\u001b[0m)                    │ (\u001b[38;5;45mNone\u001b[0m, \u001b[38;5;34m21\u001b[0m, \u001b[38;5;34m21\u001b[0m, \u001b[38;5;34m64\u001b[0m)          │          \u001b[38;5;34m18,496\u001b[0m │\n",
              "├──────────────────────────────────────┼─────────────────────────────┼─────────────────┤\n",
              "│ max_pooling2d_1 (\u001b[38;5;33mMaxPooling2D\u001b[0m)       │ (\u001b[38;5;45mNone\u001b[0m, \u001b[38;5;34m10\u001b[0m, \u001b[38;5;34m10\u001b[0m, \u001b[38;5;34m64\u001b[0m)          │               \u001b[38;5;34m0\u001b[0m │\n",
              "├──────────────────────────────────────┼─────────────────────────────┼─────────────────┤\n",
              "│ conv2d_2 (\u001b[38;5;33mConv2D\u001b[0m)                    │ (\u001b[38;5;45mNone\u001b[0m, \u001b[38;5;34m8\u001b[0m, \u001b[38;5;34m8\u001b[0m, \u001b[38;5;34m128\u001b[0m)           │          \u001b[38;5;34m73,856\u001b[0m │\n",
              "├──────────────────────────────────────┼─────────────────────────────┼─────────────────┤\n",
              "│ max_pooling2d_2 (\u001b[38;5;33mMaxPooling2D\u001b[0m)       │ (\u001b[38;5;45mNone\u001b[0m, \u001b[38;5;34m4\u001b[0m, \u001b[38;5;34m4\u001b[0m, \u001b[38;5;34m128\u001b[0m)           │               \u001b[38;5;34m0\u001b[0m │\n",
              "├──────────────────────────────────────┼─────────────────────────────┼─────────────────┤\n",
              "│ flatten (\u001b[38;5;33mFlatten\u001b[0m)                    │ (\u001b[38;5;45mNone\u001b[0m, \u001b[38;5;34m2048\u001b[0m)                │               \u001b[38;5;34m0\u001b[0m │\n",
              "├──────────────────────────────────────┼─────────────────────────────┼─────────────────┤\n",
              "│ dense (\u001b[38;5;33mDense\u001b[0m)                        │ (\u001b[38;5;45mNone\u001b[0m, \u001b[38;5;34m128\u001b[0m)                 │         \u001b[38;5;34m262,272\u001b[0m │\n",
              "├──────────────────────────────────────┼─────────────────────────────┼─────────────────┤\n",
              "│ dropout (\u001b[38;5;33mDropout\u001b[0m)                    │ (\u001b[38;5;45mNone\u001b[0m, \u001b[38;5;34m128\u001b[0m)                 │               \u001b[38;5;34m0\u001b[0m │\n",
              "├──────────────────────────────────────┼─────────────────────────────┼─────────────────┤\n",
              "│ dense_1 (\u001b[38;5;33mDense\u001b[0m)                      │ (\u001b[38;5;45mNone\u001b[0m, \u001b[38;5;34m7\u001b[0m)                   │             \u001b[38;5;34m903\u001b[0m │\n",
              "└──────────────────────────────────────┴─────────────────────────────┴─────────────────┘\n"
            ],
            "text/html": [
              "<pre style=\"white-space:pre;overflow-x:auto;line-height:normal;font-family:Menlo,'DejaVu Sans Mono',consolas,'Courier New',monospace\">┏━━━━━━━━━━━━━━━━━━━━━━━━━━━━━━━━━━━━━━┳━━━━━━━━━━━━━━━━━━━━━━━━━━━━━┳━━━━━━━━━━━━━━━━━┓\n",
              "┃<span style=\"font-weight: bold\"> Layer (type)                         </span>┃<span style=\"font-weight: bold\"> Output Shape                </span>┃<span style=\"font-weight: bold\">         Param # </span>┃\n",
              "┡━━━━━━━━━━━━━━━━━━━━━━━━━━━━━━━━━━━━━━╇━━━━━━━━━━━━━━━━━━━━━━━━━━━━━╇━━━━━━━━━━━━━━━━━┩\n",
              "│ conv2d (<span style=\"color: #0087ff; text-decoration-color: #0087ff\">Conv2D</span>)                      │ (<span style=\"color: #00d7ff; text-decoration-color: #00d7ff\">None</span>, <span style=\"color: #00af00; text-decoration-color: #00af00\">46</span>, <span style=\"color: #00af00; text-decoration-color: #00af00\">46</span>, <span style=\"color: #00af00; text-decoration-color: #00af00\">32</span>)          │             <span style=\"color: #00af00; text-decoration-color: #00af00\">320</span> │\n",
              "├──────────────────────────────────────┼─────────────────────────────┼─────────────────┤\n",
              "│ max_pooling2d (<span style=\"color: #0087ff; text-decoration-color: #0087ff\">MaxPooling2D</span>)         │ (<span style=\"color: #00d7ff; text-decoration-color: #00d7ff\">None</span>, <span style=\"color: #00af00; text-decoration-color: #00af00\">23</span>, <span style=\"color: #00af00; text-decoration-color: #00af00\">23</span>, <span style=\"color: #00af00; text-decoration-color: #00af00\">32</span>)          │               <span style=\"color: #00af00; text-decoration-color: #00af00\">0</span> │\n",
              "├──────────────────────────────────────┼─────────────────────────────┼─────────────────┤\n",
              "│ conv2d_1 (<span style=\"color: #0087ff; text-decoration-color: #0087ff\">Conv2D</span>)                    │ (<span style=\"color: #00d7ff; text-decoration-color: #00d7ff\">None</span>, <span style=\"color: #00af00; text-decoration-color: #00af00\">21</span>, <span style=\"color: #00af00; text-decoration-color: #00af00\">21</span>, <span style=\"color: #00af00; text-decoration-color: #00af00\">64</span>)          │          <span style=\"color: #00af00; text-decoration-color: #00af00\">18,496</span> │\n",
              "├──────────────────────────────────────┼─────────────────────────────┼─────────────────┤\n",
              "│ max_pooling2d_1 (<span style=\"color: #0087ff; text-decoration-color: #0087ff\">MaxPooling2D</span>)       │ (<span style=\"color: #00d7ff; text-decoration-color: #00d7ff\">None</span>, <span style=\"color: #00af00; text-decoration-color: #00af00\">10</span>, <span style=\"color: #00af00; text-decoration-color: #00af00\">10</span>, <span style=\"color: #00af00; text-decoration-color: #00af00\">64</span>)          │               <span style=\"color: #00af00; text-decoration-color: #00af00\">0</span> │\n",
              "├──────────────────────────────────────┼─────────────────────────────┼─────────────────┤\n",
              "│ conv2d_2 (<span style=\"color: #0087ff; text-decoration-color: #0087ff\">Conv2D</span>)                    │ (<span style=\"color: #00d7ff; text-decoration-color: #00d7ff\">None</span>, <span style=\"color: #00af00; text-decoration-color: #00af00\">8</span>, <span style=\"color: #00af00; text-decoration-color: #00af00\">8</span>, <span style=\"color: #00af00; text-decoration-color: #00af00\">128</span>)           │          <span style=\"color: #00af00; text-decoration-color: #00af00\">73,856</span> │\n",
              "├──────────────────────────────────────┼─────────────────────────────┼─────────────────┤\n",
              "│ max_pooling2d_2 (<span style=\"color: #0087ff; text-decoration-color: #0087ff\">MaxPooling2D</span>)       │ (<span style=\"color: #00d7ff; text-decoration-color: #00d7ff\">None</span>, <span style=\"color: #00af00; text-decoration-color: #00af00\">4</span>, <span style=\"color: #00af00; text-decoration-color: #00af00\">4</span>, <span style=\"color: #00af00; text-decoration-color: #00af00\">128</span>)           │               <span style=\"color: #00af00; text-decoration-color: #00af00\">0</span> │\n",
              "├──────────────────────────────────────┼─────────────────────────────┼─────────────────┤\n",
              "│ flatten (<span style=\"color: #0087ff; text-decoration-color: #0087ff\">Flatten</span>)                    │ (<span style=\"color: #00d7ff; text-decoration-color: #00d7ff\">None</span>, <span style=\"color: #00af00; text-decoration-color: #00af00\">2048</span>)                │               <span style=\"color: #00af00; text-decoration-color: #00af00\">0</span> │\n",
              "├──────────────────────────────────────┼─────────────────────────────┼─────────────────┤\n",
              "│ dense (<span style=\"color: #0087ff; text-decoration-color: #0087ff\">Dense</span>)                        │ (<span style=\"color: #00d7ff; text-decoration-color: #00d7ff\">None</span>, <span style=\"color: #00af00; text-decoration-color: #00af00\">128</span>)                 │         <span style=\"color: #00af00; text-decoration-color: #00af00\">262,272</span> │\n",
              "├──────────────────────────────────────┼─────────────────────────────┼─────────────────┤\n",
              "│ dropout (<span style=\"color: #0087ff; text-decoration-color: #0087ff\">Dropout</span>)                    │ (<span style=\"color: #00d7ff; text-decoration-color: #00d7ff\">None</span>, <span style=\"color: #00af00; text-decoration-color: #00af00\">128</span>)                 │               <span style=\"color: #00af00; text-decoration-color: #00af00\">0</span> │\n",
              "├──────────────────────────────────────┼─────────────────────────────┼─────────────────┤\n",
              "│ dense_1 (<span style=\"color: #0087ff; text-decoration-color: #0087ff\">Dense</span>)                      │ (<span style=\"color: #00d7ff; text-decoration-color: #00d7ff\">None</span>, <span style=\"color: #00af00; text-decoration-color: #00af00\">7</span>)                   │             <span style=\"color: #00af00; text-decoration-color: #00af00\">903</span> │\n",
              "└──────────────────────────────────────┴─────────────────────────────┴─────────────────┘\n",
              "</pre>\n"
            ]
          },
          "metadata": {}
        },
        {
          "output_type": "display_data",
          "data": {
            "text/plain": [
              "\u001b[1m Total params: \u001b[0m\u001b[38;5;34m355,847\u001b[0m (1.36 MB)\n"
            ],
            "text/html": [
              "<pre style=\"white-space:pre;overflow-x:auto;line-height:normal;font-family:Menlo,'DejaVu Sans Mono',consolas,'Courier New',monospace\"><span style=\"font-weight: bold\"> Total params: </span><span style=\"color: #00af00; text-decoration-color: #00af00\">355,847</span> (1.36 MB)\n",
              "</pre>\n"
            ]
          },
          "metadata": {}
        },
        {
          "output_type": "display_data",
          "data": {
            "text/plain": [
              "\u001b[1m Trainable params: \u001b[0m\u001b[38;5;34m355,847\u001b[0m (1.36 MB)\n"
            ],
            "text/html": [
              "<pre style=\"white-space:pre;overflow-x:auto;line-height:normal;font-family:Menlo,'DejaVu Sans Mono',consolas,'Courier New',monospace\"><span style=\"font-weight: bold\"> Trainable params: </span><span style=\"color: #00af00; text-decoration-color: #00af00\">355,847</span> (1.36 MB)\n",
              "</pre>\n"
            ]
          },
          "metadata": {}
        },
        {
          "output_type": "display_data",
          "data": {
            "text/plain": [
              "\u001b[1m Non-trainable params: \u001b[0m\u001b[38;5;34m0\u001b[0m (0.00 B)\n"
            ],
            "text/html": [
              "<pre style=\"white-space:pre;overflow-x:auto;line-height:normal;font-family:Menlo,'DejaVu Sans Mono',consolas,'Courier New',monospace\"><span style=\"font-weight: bold\"> Non-trainable params: </span><span style=\"color: #00af00; text-decoration-color: #00af00\">0</span> (0.00 B)\n",
              "</pre>\n"
            ]
          },
          "metadata": {}
        }
      ]
    },
    {
      "cell_type": "code",
      "source": [
        "# Import necessary libraries for deep learning with TensorFlow/Keras\n",
        "import tensorflow as tf\n",
        "from tensorflow.keras.models import Sequential\n",
        "from tensorflow.keras.layers import Conv2D, MaxPooling2D, Flatten, Dense, Dropout\n",
        "from tensorflow.keras.preprocessing.image import ImageDataGenerator\n",
        "\n",
        "# Set paths to training and test directories\n",
        "train_dir = \"/content/drive/MyDrive/cvpr project/train\"\n",
        "test_dir = \"/content/drive/MyDrive/cvpr project/test\"\n",
        "\n",
        "# Data augmentation for training set to improve generalization\n",
        "train_datagen = ImageDataGenerator(\n",
        "    rescale=1./255,  # Rescale pixel values to [0, 1] range\n",
        "    rotation_range=30,  # Randomly rotate images by up to 30 degrees\n",
        "    width_shift_range=0.2,  # Randomly shift images horizontally by 20%\n",
        "    height_shift_range=0.2,  # Randomly shift images vertically by 20%\n",
        "    shear_range=0.2,  # Randomly shear images (shear angle range)\n",
        "    zoom_range=0.2,  # Randomly zoom into images by 20%\n",
        "    horizontal_flip=True  # Randomly flip images horizontally\n",
        ")\n",
        "\n",
        "# Test data preprocessing, only rescaling the pixel values\n",
        "test_datagen = ImageDataGenerator(rescale=1./255)\n",
        "\n",
        "# Load training data with augmentation, images are resized to 48x48, grayscale, and categorical labels\n",
        "train_generator = train_datagen.flow_from_directory(\n",
        "    train_dir,\n",
        "    target_size=(48, 48),  # Resize images to 48x48\n",
        "    batch_size=64,  # Batch size of 64 images\n",
        "    color_mode='grayscale',  # Load images in grayscale\n",
        "    class_mode='categorical'  # Use categorical encoding for labels\n",
        ")\n",
        "\n",
        "# Load test data without augmentation (only rescaling)\n",
        "test_generator = test_datagen.flow_from_directory(\n",
        "    test_dir,\n",
        "    target_size=(48, 48),  # Resize images to 48x48\n",
        "    batch_size=64,  # Batch size of 64 images\n",
        "    color_mode='grayscale',  # Load images in grayscale\n",
        "    class_mode='categorical'  # Use categorical encoding for labels\n",
        ")\n",
        "\n",
        "# Define the CNN architecture\n",
        "model = Sequential([\n",
        "    # Convolutional Layer: 32 filters of size 3x3, ReLU activation, input shape for grayscale images (48x48, 1 channel)\n",
        "    Conv2D(32, (3, 3), activation='relu', input_shape=(48, 48, 1)),\n",
        "\n",
        "    # MaxPooling Layer: 2x2 pool size to reduce spatial dimensions (downsampling)\n",
        "    MaxPooling2D(pool_size=(2, 2)),\n",
        "\n",
        "    # Second Convolutional Layer: 64 filters of size 3x3, ReLU activation\n",
        "    Conv2D(64, (3, 3), activation='relu'),\n",
        "\n",
        "    # MaxPooling Layer: 2x2 pool size for downsampling\n",
        "    MaxPooling2D(pool_size=(2, 2)),\n",
        "\n",
        "    # Third Convolutional Layer: 128 filters of size 3x3, ReLU activation\n",
        "    Conv2D(128, (3, 3), activation='relu'),\n",
        "\n",
        "    # MaxPooling Layer: 2x2 pool size for downsampling\n",
        "    MaxPooling2D(pool_size=(2, 2)),\n",
        "\n",
        "    # Flatten Layer: Flatten the 3D output from the previous layers into a 1D vector\n",
        "    Flatten(),\n",
        "\n",
        "    # Fully connected Dense Layer: 128 neurons with ReLU activation\n",
        "    Dense(128, activation='relu'),\n",
        "\n",
        "    # Dropout Layer: 50% of the neurons are randomly dropped to prevent overfitting\n",
        "    Dropout(0.5),\n",
        "\n",
        "    # Output Layer: 7 neurons (one for each class), softmax activation to output probabilities\n",
        "    Dense(7, activation='softmax')\n",
        "])\n",
        "\n",
        "# Compile the model: Using Adam optimizer, categorical cross-entropy loss, and accuracy metric\n",
        "model.compile(optimizer='adam', loss='categorical_crossentropy', metrics=['accuracy'])\n",
        "\n",
        "# Train the model with the training and validation data generators\n",
        "model.fit(\n",
        "    train_generator,  # Training data generator\n",
        "    steps_per_epoch=train_generator.samples // train_generator.batch_size,  # Number of steps per epoch\n",
        "    validation_data=test_generator,  # Validation data generator\n",
        "    validation_steps=test_generator.samples // test_generator.batch_size,  # Number of validation steps\n",
        "    epochs=50  # Number of epochs for training\n",
        ")\n",
        "\n",
        "# Save the trained model to a file\n",
        "model.save('/content/drive/MyDrive/emotiondataset/emotion_detection_model.h5')\n"
      ],
      "metadata": {
        "colab": {
          "base_uri": "https://localhost:8080/"
        },
        "id": "wwfTvB25aZ-r",
        "outputId": "eace9de3-ecb2-44b6-906b-da628844c589"
      },
      "execution_count": null,
      "outputs": [
        {
          "output_type": "stream",
          "name": "stdout",
          "text": [
            "Found 22965 images belonging to 7 classes.\n",
            "Found 7178 images belonging to 7 classes.\n",
            "Epoch 1/50\n",
            "\u001b[1m358/358\u001b[0m \u001b[32m━━━━━━━━━━━━━━━━━━━━\u001b[0m\u001b[37m\u001b[0m \u001b[1m150s\u001b[0m 311ms/step - accuracy: 0.2303 - loss: 1.8366 - val_accuracy: 0.2535 - val_loss: 1.7849\n",
            "Epoch 2/50\n",
            "\u001b[1m358/358\u001b[0m \u001b[32m━━━━━━━━━━━━━━━━━━━━\u001b[0m\u001b[37m\u001b[0m \u001b[1m19s\u001b[0m 52ms/step - accuracy: 0.2656 - loss: 1.8543 - val_accuracy: 0.1000 - val_loss: 1.9201\n",
            "Epoch 3/50\n",
            "\u001b[1m358/358\u001b[0m \u001b[32m━━━━━━━━━━━━━━━━━━━━\u001b[0m\u001b[37m\u001b[0m \u001b[1m144s\u001b[0m 300ms/step - accuracy: 0.2490 - loss: 1.7996 - val_accuracy: 0.2563 - val_loss: 1.7554\n",
            "Epoch 4/50\n",
            "\u001b[1m358/358\u001b[0m \u001b[32m━━━━━━━━━━━━━━━━━━━━\u001b[0m\u001b[37m\u001b[0m \u001b[1m0s\u001b[0m 59us/step - accuracy: 0.2812 - loss: 1.7150 - val_accuracy: 0.0000e+00 - val_loss: 1.7605\n",
            "Epoch 5/50\n",
            "\u001b[1m358/358\u001b[0m \u001b[32m━━━━━━━━━━━━━━━━━━━━\u001b[0m\u001b[37m\u001b[0m \u001b[1m141s\u001b[0m 298ms/step - accuracy: 0.2561 - loss: 1.7782 - val_accuracy: 0.2958 - val_loss: 1.7203\n",
            "Epoch 6/50\n",
            "\u001b[1m358/358\u001b[0m \u001b[32m━━━━━━━━━━━━━━━━━━━━\u001b[0m\u001b[37m\u001b[0m \u001b[1m0s\u001b[0m 108us/step - accuracy: 0.3438 - loss: 1.6103 - val_accuracy: 0.3000 - val_loss: 1.6184\n",
            "Epoch 7/50\n",
            "\u001b[1m358/358\u001b[0m \u001b[32m━━━━━━━━━━━━━━━━━━━━\u001b[0m\u001b[37m\u001b[0m \u001b[1m110s\u001b[0m 302ms/step - accuracy: 0.2759 - loss: 1.7551 - val_accuracy: 0.3150 - val_loss: 1.7132\n",
            "Epoch 8/50\n",
            "\u001b[1m358/358\u001b[0m \u001b[32m━━━━━━━━━━━━━━━━━━━━\u001b[0m\u001b[37m\u001b[0m \u001b[1m19s\u001b[0m 52ms/step - accuracy: 0.2188 - loss: 1.7769 - val_accuracy: 0.3000 - val_loss: 1.7311\n",
            "Epoch 9/50\n",
            "\u001b[1m358/358\u001b[0m \u001b[32m━━━━━━━━━━━━━━━━━━━━\u001b[0m\u001b[37m\u001b[0m \u001b[1m121s\u001b[0m 297ms/step - accuracy: 0.2958 - loss: 1.7318 - val_accuracy: 0.3669 - val_loss: 1.6272\n",
            "Epoch 10/50\n",
            "\u001b[1m358/358\u001b[0m \u001b[32m━━━━━━━━━━━━━━━━━━━━\u001b[0m\u001b[37m\u001b[0m \u001b[1m0s\u001b[0m 45us/step - accuracy: 0.3906 - loss: 1.5576 - val_accuracy: 0.2000 - val_loss: 1.9102\n",
            "Epoch 11/50\n",
            "\u001b[1m358/358\u001b[0m \u001b[32m━━━━━━━━━━━━━━━━━━━━\u001b[0m\u001b[37m\u001b[0m \u001b[1m108s\u001b[0m 299ms/step - accuracy: 0.3237 - loss: 1.6833 - val_accuracy: 0.4255 - val_loss: 1.5189\n",
            "Epoch 12/50\n",
            "\u001b[1m358/358\u001b[0m \u001b[32m━━━━━━━━━━━━━━━━━━━━\u001b[0m\u001b[37m\u001b[0m \u001b[1m19s\u001b[0m 53ms/step - accuracy: 0.2969 - loss: 1.6367 - val_accuracy: 0.5000 - val_loss: 1.6327\n",
            "Epoch 13/50\n",
            "\u001b[1m358/358\u001b[0m \u001b[32m━━━━━━━━━━━━━━━━━━━━\u001b[0m\u001b[37m\u001b[0m \u001b[1m127s\u001b[0m 309ms/step - accuracy: 0.3500 - loss: 1.6353 - val_accuracy: 0.4561 - val_loss: 1.4403\n",
            "Epoch 14/50\n",
            "\u001b[1m358/358\u001b[0m \u001b[32m━━━━━━━━━━━━━━━━━━━━\u001b[0m\u001b[37m\u001b[0m \u001b[1m0s\u001b[0m 69us/step - accuracy: 0.4531 - loss: 1.5888 - val_accuracy: 0.2000 - val_loss: 1.5712\n",
            "Epoch 15/50\n",
            "\u001b[1m358/358\u001b[0m \u001b[32m━━━━━━━━━━━━━━━━━━━━\u001b[0m\u001b[37m\u001b[0m \u001b[1m141s\u001b[0m 306ms/step - accuracy: 0.3827 - loss: 1.5770 - val_accuracy: 0.4615 - val_loss: 1.4047\n",
            "Epoch 16/50\n",
            "\u001b[1m358/358\u001b[0m \u001b[32m━━━━━━━━━━━━━━━━━━━━\u001b[0m\u001b[37m\u001b[0m \u001b[1m19s\u001b[0m 53ms/step - accuracy: 0.4844 - loss: 1.4965 - val_accuracy: 0.6000 - val_loss: 1.1749\n",
            "Epoch 17/50\n",
            "\u001b[1m358/358\u001b[0m \u001b[32m━━━━━━━━━━━━━━━━━━━━\u001b[0m\u001b[37m\u001b[0m \u001b[1m125s\u001b[0m 311ms/step - accuracy: 0.3851 - loss: 1.5638 - val_accuracy: 0.4595 - val_loss: 1.4112\n",
            "Epoch 18/50\n",
            "\u001b[1m358/358\u001b[0m \u001b[32m━━━━━━━━━━━━━━━━━━━━\u001b[0m\u001b[37m\u001b[0m \u001b[1m0s\u001b[0m 122us/step - accuracy: 0.3906 - loss: 1.4538 - val_accuracy: 0.4000 - val_loss: 1.9194\n",
            "Epoch 19/50\n",
            "\u001b[1m358/358\u001b[0m \u001b[32m━━━━━━━━━━━━━━━━━━━━\u001b[0m\u001b[37m\u001b[0m \u001b[1m111s\u001b[0m 304ms/step - accuracy: 0.4062 - loss: 1.5214 - val_accuracy: 0.4865 - val_loss: 1.3398\n",
            "Epoch 20/50\n",
            "\u001b[1m358/358\u001b[0m \u001b[32m━━━━━━━━━━━━━━━━━━━━\u001b[0m\u001b[37m\u001b[0m \u001b[1m19s\u001b[0m 52ms/step - accuracy: 0.5000 - loss: 1.4722 - val_accuracy: 0.6000 - val_loss: 1.1556\n",
            "Epoch 21/50\n",
            "\u001b[1m358/358\u001b[0m \u001b[32m━━━━━━━━━━━━━━━━━━━━\u001b[0m\u001b[37m\u001b[0m \u001b[1m120s\u001b[0m 297ms/step - accuracy: 0.4217 - loss: 1.5012 - val_accuracy: 0.4914 - val_loss: 1.3123\n",
            "Epoch 22/50\n",
            "\u001b[1m358/358\u001b[0m \u001b[32m━━━━━━━━━━━━━━━━━━━━\u001b[0m\u001b[37m\u001b[0m \u001b[1m20s\u001b[0m 55ms/step - accuracy: 0.4219 - loss: 1.4420 - val_accuracy: 0.7000 - val_loss: 0.6833\n",
            "Epoch 23/50\n",
            "\u001b[1m358/358\u001b[0m \u001b[32m━━━━━━━━━━━━━━━━━━━━\u001b[0m\u001b[37m\u001b[0m \u001b[1m110s\u001b[0m 303ms/step - accuracy: 0.4295 - loss: 1.4748 - val_accuracy: 0.4854 - val_loss: 1.3573\n",
            "Epoch 24/50\n",
            "\u001b[1m358/358\u001b[0m \u001b[32m━━━━━━━━━━━━━━━━━━━━\u001b[0m\u001b[37m\u001b[0m \u001b[1m20s\u001b[0m 56ms/step - accuracy: 0.5000 - loss: 1.3965 - val_accuracy: 0.8000 - val_loss: 1.2998\n",
            "Epoch 25/50\n",
            "\u001b[1m358/358\u001b[0m \u001b[32m━━━━━━━━━━━━━━━━━━━━\u001b[0m\u001b[37m\u001b[0m \u001b[1m108s\u001b[0m 297ms/step - accuracy: 0.4261 - loss: 1.4716 - val_accuracy: 0.4950 - val_loss: 1.3067\n",
            "Epoch 26/50\n",
            "\u001b[1m358/358\u001b[0m \u001b[32m━━━━━━━━━━━━━━━━━━━━\u001b[0m\u001b[37m\u001b[0m \u001b[1m19s\u001b[0m 54ms/step - accuracy: 0.3906 - loss: 1.6041 - val_accuracy: 0.6000 - val_loss: 1.2622\n",
            "Epoch 27/50\n",
            "\u001b[1m358/358\u001b[0m \u001b[32m━━━━━━━━━━━━━━━━━━━━\u001b[0m\u001b[37m\u001b[0m \u001b[1m112s\u001b[0m 308ms/step - accuracy: 0.4490 - loss: 1.4448 - val_accuracy: 0.5209 - val_loss: 1.2601\n",
            "Epoch 28/50\n",
            "\u001b[1m358/358\u001b[0m \u001b[32m━━━━━━━━━━━━━━━━━━━━\u001b[0m\u001b[37m\u001b[0m \u001b[1m17s\u001b[0m 49ms/step - accuracy: 0.4062 - loss: 1.5379 - val_accuracy: 0.4000 - val_loss: 1.3851\n",
            "Epoch 29/50\n",
            "\u001b[1m358/358\u001b[0m \u001b[32m━━━━━━━━━━━━━━━━━━━━\u001b[0m\u001b[37m\u001b[0m \u001b[1m109s\u001b[0m 299ms/step - accuracy: 0.4552 - loss: 1.4271 - val_accuracy: 0.5167 - val_loss: 1.2747\n",
            "Epoch 30/50\n",
            "\u001b[1m358/358\u001b[0m \u001b[32m━━━━━━━━━━━━━━━━━━━━\u001b[0m\u001b[37m\u001b[0m \u001b[1m19s\u001b[0m 54ms/step - accuracy: 0.5156 - loss: 1.4253 - val_accuracy: 0.3000 - val_loss: 1.6514\n",
            "Epoch 31/50\n",
            "\u001b[1m358/358\u001b[0m \u001b[32m━━━━━━━━━━━━━━━━━━━━\u001b[0m\u001b[37m\u001b[0m \u001b[1m110s\u001b[0m 304ms/step - accuracy: 0.4556 - loss: 1.4296 - val_accuracy: 0.5294 - val_loss: 1.2462\n",
            "Epoch 32/50\n",
            "\u001b[1m358/358\u001b[0m \u001b[32m━━━━━━━━━━━━━━━━━━━━\u001b[0m\u001b[37m\u001b[0m \u001b[1m0s\u001b[0m 90us/step - accuracy: 0.4219 - loss: 1.4317 - val_accuracy: 0.6000 - val_loss: 1.1208\n",
            "Epoch 33/50\n",
            "\u001b[1m358/358\u001b[0m \u001b[32m━━━━━━━━━━━━━━━━━━━━\u001b[0m\u001b[37m\u001b[0m \u001b[1m111s\u001b[0m 306ms/step - accuracy: 0.4594 - loss: 1.4216 - val_accuracy: 0.5312 - val_loss: 1.2380\n",
            "Epoch 34/50\n",
            "\u001b[1m358/358\u001b[0m \u001b[32m━━━━━━━━━━━━━━━━━━━━\u001b[0m\u001b[37m\u001b[0m \u001b[1m19s\u001b[0m 52ms/step - accuracy: 0.5000 - loss: 1.3943 - val_accuracy: 0.5000 - val_loss: 1.6880\n",
            "Epoch 35/50\n",
            "\u001b[1m358/358\u001b[0m \u001b[32m━━━━━━━━━━━━━━━━━━━━\u001b[0m\u001b[37m\u001b[0m \u001b[1m123s\u001b[0m 307ms/step - accuracy: 0.4641 - loss: 1.4011 - val_accuracy: 0.5187 - val_loss: 1.2488\n",
            "Epoch 36/50\n",
            "\u001b[1m358/358\u001b[0m \u001b[32m━━━━━━━━━━━━━━━━━━━━\u001b[0m\u001b[37m\u001b[0m \u001b[1m0s\u001b[0m 69us/step - accuracy: 0.4375 - loss: 1.4939 - val_accuracy: 0.7000 - val_loss: 0.9910\n",
            "Epoch 37/50\n",
            "\u001b[1m358/358\u001b[0m \u001b[32m━━━━━━━━━━━━━━━━━━━━\u001b[0m\u001b[37m\u001b[0m \u001b[1m137s\u001b[0m 293ms/step - accuracy: 0.4703 - loss: 1.4016 - val_accuracy: 0.5292 - val_loss: 1.2313\n",
            "Epoch 38/50\n",
            "\u001b[1m358/358\u001b[0m \u001b[32m━━━━━━━━━━━━━━━━━━━━\u001b[0m\u001b[37m\u001b[0m \u001b[1m0s\u001b[0m 111us/step - accuracy: 0.5000 - loss: 1.3479 - val_accuracy: 0.6000 - val_loss: 0.9115\n",
            "Epoch 39/50\n",
            "\u001b[1m358/358\u001b[0m \u001b[32m━━━━━━━━━━━━━━━━━━━━\u001b[0m\u001b[37m\u001b[0m \u001b[1m143s\u001b[0m 295ms/step - accuracy: 0.4668 - loss: 1.3847 - val_accuracy: 0.5254 - val_loss: 1.2503\n",
            "Epoch 40/50\n",
            "\u001b[1m358/358\u001b[0m \u001b[32m━━━━━━━━━━━━━━━━━━━━\u001b[0m\u001b[37m\u001b[0m \u001b[1m20s\u001b[0m 55ms/step - accuracy: 0.3750 - loss: 1.4764 - val_accuracy: 0.8000 - val_loss: 0.9140\n",
            "Epoch 41/50\n",
            "\u001b[1m358/358\u001b[0m \u001b[32m━━━━━━━━━━━━━━━━━━━━\u001b[0m\u001b[37m\u001b[0m \u001b[1m105s\u001b[0m 290ms/step - accuracy: 0.4675 - loss: 1.3888 - val_accuracy: 0.5308 - val_loss: 1.2305\n",
            "Epoch 42/50\n",
            "\u001b[1m358/358\u001b[0m \u001b[32m━━━━━━━━━━━━━━━━━━━━\u001b[0m\u001b[37m\u001b[0m \u001b[1m0s\u001b[0m 57us/step - accuracy: 0.4062 - loss: 1.4975 - val_accuracy: 0.9000 - val_loss: 0.9368\n",
            "Epoch 43/50\n",
            "\u001b[1m358/358\u001b[0m \u001b[32m━━━━━━━━━━━━━━━━━━━━\u001b[0m\u001b[37m\u001b[0m \u001b[1m143s\u001b[0m 295ms/step - accuracy: 0.4755 - loss: 1.3751 - val_accuracy: 0.5275 - val_loss: 1.2311\n",
            "Epoch 44/50\n",
            "\u001b[1m358/358\u001b[0m \u001b[32m━━━━━━━━━━━━━━━━━━━━\u001b[0m\u001b[37m\u001b[0m \u001b[1m0s\u001b[0m 61us/step - accuracy: 0.5781 - loss: 1.3066 - val_accuracy: 0.3000 - val_loss: 1.4280\n",
            "Epoch 45/50\n",
            "\u001b[1m358/358\u001b[0m \u001b[32m━━━━━━━━━━━━━━━━━━━━\u001b[0m\u001b[37m\u001b[0m \u001b[1m141s\u001b[0m 293ms/step - accuracy: 0.4793 - loss: 1.3776 - val_accuracy: 0.5402 - val_loss: 1.1966\n",
            "Epoch 46/50\n",
            "\u001b[1m358/358\u001b[0m \u001b[32m━━━━━━━━━━━━━━━━━━━━\u001b[0m\u001b[37m\u001b[0m \u001b[1m0s\u001b[0m 93us/step - accuracy: 0.4688 - loss: 1.4990 - val_accuracy: 0.6000 - val_loss: 1.4299\n",
            "Epoch 47/50\n",
            "\u001b[1m358/358\u001b[0m \u001b[32m━━━━━━━━━━━━━━━━━━━━\u001b[0m\u001b[37m\u001b[0m \u001b[1m137s\u001b[0m 280ms/step - accuracy: 0.4958 - loss: 1.3357 - val_accuracy: 0.5462 - val_loss: 1.1886\n",
            "Epoch 48/50\n",
            "\u001b[1m358/358\u001b[0m \u001b[32m━━━━━━━━━━━━━━━━━━━━\u001b[0m\u001b[37m\u001b[0m \u001b[1m20s\u001b[0m 57ms/step - accuracy: 0.5312 - loss: 1.2773 - val_accuracy: 0.4000 - val_loss: 1.2662\n",
            "Epoch 49/50\n",
            "\u001b[1m358/358\u001b[0m \u001b[32m━━━━━━━━━━━━━━━━━━━━\u001b[0m\u001b[37m\u001b[0m \u001b[1m125s\u001b[0m 289ms/step - accuracy: 0.4901 - loss: 1.3474 - val_accuracy: 0.5446 - val_loss: 1.1914\n",
            "Epoch 50/50\n",
            "\u001b[1m358/358\u001b[0m \u001b[32m━━━━━━━━━━━━━━━━━━━━\u001b[0m\u001b[37m\u001b[0m \u001b[1m20s\u001b[0m 55ms/step - accuracy: 0.5156 - loss: 1.3500 - val_accuracy: 0.5000 - val_loss: 1.1337\n"
          ]
        },
        {
          "output_type": "stream",
          "name": "stderr",
          "text": [
            "WARNING:absl:You are saving your model as an HDF5 file via `model.save()` or `keras.saving.save_model(model)`. This file format is considered legacy. We recommend using instead the native Keras format, e.g. `model.save('my_model.keras')` or `keras.saving.save_model(model, 'my_model.keras')`. \n"
          ]
        }
      ]
    },
    {
      "cell_type": "code",
      "source": [
        "# Import necessary libraries for deep learning with TensorFlow/Keras\n",
        "import tensorflow as tf\n",
        "from tensorflow.keras.models import load_model\n",
        "from tensorflow.keras.preprocessing.image import ImageDataGenerator\n",
        "\n",
        "# Set paths to the training and test directories\n",
        "train_dir = \"/content/drive/MyDrive/cvpr project/train\"\n",
        "test_dir = \"/content/drive/MyDrive/cvpr project/test\"\n",
        "\n",
        "# Load the pre-trained model from the specified file path\n",
        "model_path = '/content/drive/MyDrive/emotiondataset/emotion_detection_model.h5'\n",
        "model = load_model(model_path)\n",
        "\n",
        "# Compile the loaded model with Adam optimizer and categorical crossentropy loss function\n",
        "# This is necessary in case we are further training the model.\n",
        "model.compile(optimizer='adam', loss='categorical_crossentropy', metrics=['accuracy'])\n",
        "\n",
        "# Data augmentation for the training set to improve generalization\n",
        "train_datagen = ImageDataGenerator(\n",
        "    rescale=1./255,  # Rescale pixel values to [0, 1] range\n",
        "    rotation_range=30,  # Randomly rotate images by up to 30 degrees\n",
        "    width_shift_range=0.2,  # Randomly shift images horizontally by 20%\n",
        "    height_shift_range=0.2,  # Randomly shift images vertically by 20%\n",
        "    shear_range=0.2,  # Randomly shear images (shear angle range)\n",
        "    zoom_range=0.2,  # Randomly zoom into images by 20%\n",
        "    horizontal_flip=True  # Randomly flip images horizontally\n",
        ")\n",
        "\n",
        "# Test data preprocessing, only rescaling the pixel values\n",
        "test_datagen = ImageDataGenerator(rescale=1./255)\n",
        "\n",
        "# Load the training data with augmentation, images are resized to 48x48, grayscale, and categorical labels\n",
        "train_generator = train_datagen.flow_from_directory(\n",
        "    train_dir,\n",
        "    target_size=(48, 48),  # Resize images to 48x48\n",
        "    batch_size=64,  # Batch size of 64 images\n",
        "    color_mode='grayscale',  # Load images in grayscale\n",
        "    class_mode='categorical'  # Use categorical encoding for labels\n",
        ")\n",
        "\n",
        "# Load the test data without augmentation (only rescaling)\n",
        "test_generator = test_datagen.flow_from_directory(\n",
        "    test_dir,\n",
        "    target_size=(48, 48),  # Resize images to 48x48\n",
        "    batch_size=64,  # Batch size of 64 images\n",
        "    color_mode='grayscale',  # Load images in grayscale\n",
        "    class_mode='categorical'  # Use categorical encoding for labels\n",
        ")\n",
        "\n",
        "# Define the number of additional epochs to continue training\n",
        "additional_epochs = 25\n",
        "\n",
        "# Continue training the model with the training and validation data generators\n",
        "# 'initial_epoch' is set to 50 to continue from the previously trained epoch\n",
        "model.fit(\n",
        "    train_generator,  # Training data generator\n",
        "    steps_per_epoch=train_generator.samples // train_generator.batch_size,  # Number of steps per epoch\n",
        "    validation_data=test_generator,  # Validation data generator\n",
        "    validation_steps=test_generator.samples // test_generator.batch_size,  # Number of validation steps\n",
        "    epochs=additional_epochs,  # Additional epochs to train the model\n",
        "    initial_epoch=50  # Continue training from epoch 50 (from the previous training)\n",
        ")\n",
        "\n",
        "# Save the further trained model to a new file\n",
        "model.save('/content/drive/MyDrive/emotiondataset/emotion_detection_model_further_trained.h5')\n",
        "\n",
        "# Print message indicating that the model has been trained and saved\n",
        "print(\"Model training completed and saved.\")\n"
      ],
      "metadata": {
        "colab": {
          "base_uri": "https://localhost:8080/"
        },
        "id": "hAa93tVLaqw6",
        "outputId": "81fcb87b-fc29-47a0-f780-87dcf093c6f1"
      },
      "execution_count": null,
      "outputs": [
        {
          "output_type": "stream",
          "name": "stderr",
          "text": [
            "WARNING:absl:Compiled the loaded model, but the compiled metrics have yet to be built. `model.compile_metrics` will be empty until you train or evaluate the model.\n"
          ]
        },
        {
          "output_type": "stream",
          "name": "stdout",
          "text": [
            "Found 22965 images belonging to 7 classes.\n",
            "Found 7178 images belonging to 7 classes.\n"
          ]
        },
        {
          "output_type": "stream",
          "name": "stderr",
          "text": [
            "WARNING:absl:You are saving your model as an HDF5 file via `model.save()` or `keras.saving.save_model(model)`. This file format is considered legacy. We recommend using instead the native Keras format, e.g. `model.save('my_model.keras')` or `keras.saving.save_model(model, 'my_model.keras')`. \n"
          ]
        },
        {
          "output_type": "stream",
          "name": "stdout",
          "text": [
            "Model training completed and saved.\n"
          ]
        }
      ]
    },
    {
      "cell_type": "code",
      "source": [
        "# Import necessary libraries\n",
        "import tensorflow as tf\n",
        "from tensorflow.keras.models import load_model\n",
        "from tensorflow.keras.preprocessing.image import ImageDataGenerator\n",
        "\n",
        "# Set paths to the training and test directories\n",
        "train_dir = \"/content/drive/MyDrive/cvpr project/train\"\n",
        "test_dir = \"/content/drive/MyDrive/cvpr project/test\"\n",
        "\n",
        "# Load the pre-trained model\n",
        "model_path = '/content/drive/MyDrive/emotiondataset/emotion_detection_model.h5'\n",
        "model = load_model(model_path)\n",
        "\n",
        "# Compile the loaded model with Adam optimizer and categorical crossentropy loss function\n",
        "model.compile(optimizer='adam', loss='categorical_crossentropy', metrics=['accuracy'])\n",
        "\n",
        "# Data augmentation for the training set to improve generalization\n",
        "train_datagen = ImageDataGenerator(\n",
        "    rescale=1./255,  # Normalize pixel values to the range [0, 1]\n",
        "    rotation_range=30,  # Randomly rotate images by up to 30 degrees\n",
        "    width_shift_range=0.2,  # Randomly shift images horizontally by 20%\n",
        "    height_shift_range=0.2,  # Randomly shift images vertically by 20%\n",
        "    shear_range=0.2,  # Randomly shear images (shear angle range)\n",
        "    zoom_range=0.2,  # Randomly zoom into images by 20%\n",
        "    horizontal_flip=True  # Randomly flip images horizontally\n",
        ")\n",
        "\n",
        "# Test data preprocessing, only rescaling the pixel values\n",
        "test_datagen = ImageDataGenerator(rescale=1./255)\n",
        "\n",
        "# Load training data from the specified directory, apply augmentation, and resize images to 48x48\n",
        "train_generator = train_datagen.flow_from_directory(\n",
        "    train_dir,\n",
        "    target_size=(48, 48),  # Resize images to 48x48\n",
        "    batch_size=64,  # Set batch size to 64\n",
        "    color_mode='grayscale',  # Convert images to grayscale\n",
        "    class_mode='categorical'  # Use categorical labels (one-hot encoded)\n",
        ")\n",
        "\n",
        "# Load test data from the specified directory, only apply rescaling\n",
        "test_generator = test_datagen.flow_from_directory(\n",
        "    test_dir,\n",
        "    target_size=(48, 48),  # Resize images to 48x48\n",
        "    batch_size=64,  # Set batch size to 64\n",
        "    color_mode='grayscale',  # Convert images to grayscale\n",
        "    class_mode='categorical'  # Use categorical labels (one-hot encoded)\n",
        ")\n",
        "\n",
        "# Define the number of additional epochs to continue training\n",
        "additional_epochs = 25\n",
        "\n",
        "# Continue training the model with the training and validation data generators\n",
        "model.fit(\n",
        "    train_generator,  # Training data generator\n",
        "    steps_per_epoch=train_generator.samples // train_generator.batch_size,  # Number of steps per epoch\n",
        "    validation_data=test_generator,  # Validation data generator\n",
        "    validation_steps=test_generator.samples // test_generator.batch_size,  # Number of validation steps\n",
        "    epochs=additional_epochs,  # Additional epochs for training\n",
        "    initial_epoch=50  # Start training from epoch 50 (resume from the previous training)\n",
        ")\n",
        "\n",
        "# Save the trained model in Keras format\n",
        "model.save('/content/drive/MyDrive/emotiondataset/emotion_detection_model_further_trained.keras', save_format='keras')\n",
        "\n",
        "# Print message indicating that the model has been trained and saved\n",
        "print(\"Model training completed and saved.\")\n"
      ],
      "metadata": {
        "colab": {
          "base_uri": "https://localhost:8080/"
        },
        "id": "AsQ36Hklsi6q",
        "outputId": "b512ce3c-b5b6-492c-e5f4-9a08afa87dca"
      },
      "execution_count": null,
      "outputs": [
        {
          "output_type": "stream",
          "name": "stderr",
          "text": [
            "WARNING:absl:Compiled the loaded model, but the compiled metrics have yet to be built. `model.compile_metrics` will be empty until you train or evaluate the model.\n"
          ]
        },
        {
          "output_type": "stream",
          "name": "stdout",
          "text": [
            "Found 22965 images belonging to 7 classes.\n",
            "Found 7178 images belonging to 7 classes.\n"
          ]
        },
        {
          "output_type": "stream",
          "name": "stderr",
          "text": [
            "WARNING:absl:The `save_format` argument is deprecated in Keras 3. We recommend removing this argument as it can be inferred from the file path. Received: save_format=keras\n"
          ]
        },
        {
          "output_type": "stream",
          "name": "stdout",
          "text": [
            "Model training completed and saved.\n"
          ]
        }
      ]
    },
    {
      "cell_type": "code",
      "source": [
        "# Import necessary libraries\n",
        "import tensorflow as tf\n",
        "from tensorflow.keras.models import load_model\n",
        "from tensorflow.keras.preprocessing.image import ImageDataGenerator\n",
        "import os\n",
        "from PIL import Image  # For image file verification\n",
        "\n",
        "# Set the path to the test directory where images are stored\n",
        "test_dir = \"/content/drive/MyDrive/cvpr project/test\"\n",
        "\n",
        "# Load the pre-trained model that was further trained\n",
        "model_path = '/content/drive/MyDrive/emotiondataset/emotion_detection_model_further_trained.keras'\n",
        "model = load_model(model_path)\n",
        "\n",
        "# Initialize ImageDataGenerator to rescale pixel values to the range [0, 1] for test data\n",
        "test_datagen = ImageDataGenerator(rescale=1./255)\n",
        "\n",
        "# Function to clean the test directory by removing invalid images (corrupted files)\n",
        "def clean_invalid_images(directory):\n",
        "    # Walk through the directory and all its subdirectories\n",
        "    for subdir, dirs, files in os.walk(directory):\n",
        "        for file in files:\n",
        "            filepath = os.path.join(subdir, file)\n",
        "            try:\n",
        "                # Try to open the image and verify if it's a valid image\n",
        "                img = Image.open(filepath)\n",
        "                img.verify()  # Verifies the image without fully opening it\n",
        "            except (IOError, SyntaxError):  # Catch errors if the image is invalid\n",
        "                print(f\"Removing invalid image: {filepath}\")  # Print the invalid file path\n",
        "                os.remove(filepath)  # Remove the invalid image from the directory\n",
        "\n",
        "# Clean the test directory by removing invalid images\n",
        "clean_invalid_images(test_dir)\n",
        "\n",
        "# Load test data from the directory, rescale images, and resize them to 48x48 pixels\n",
        "# `shuffle=False` ensures that the order of test images remains the same\n",
        "test_generator = test_datagen.flow_from_directory(\n",
        "    test_dir,\n",
        "    target_size=(48, 48),  # Resize all images to 48x48\n",
        "    batch_size=64,  # Set batch size to 64\n",
        "    color_mode='grayscale',  # Load images as grayscale\n",
        "    class_mode='categorical',  # Use categorical labels (one-hot encoding)\n",
        "    shuffle=False  # Ensure test data is not shuffled for consistency in evaluation\n",
        ")\n",
        "\n",
        "# Evaluate the model on the test dataset\n",
        "loss, accuracy = model.evaluate(\n",
        "    test_generator,  # The test data generator\n",
        "    steps=test_generator.samples // test_generator.batch_size  # Steps per epoch (total test samples / batch size)\n",
        ")\n",
        "\n",
        "# Print the results of the evaluation\n",
        "print(f\"Test Loss: {loss:.4f}\")  # Print loss to 4 decimal places\n",
        "print(f\"Test Accuracy: {accuracy * 100:.2f}%\")  # Print accuracy as a percentage with 2 decimal places\n"
      ],
      "metadata": {
        "colab": {
          "base_uri": "https://localhost:8080/"
        },
        "id": "l_nSod3bragD",
        "outputId": "bf31ee21-03b6-492c-bbfb-9b0fbd75cf5e"
      },
      "execution_count": null,
      "outputs": [
        {
          "output_type": "stream",
          "name": "stdout",
          "text": [
            "Removing invalid image: /content/drive/MyDrive/cvpr project/test/angry/PrivateTest_10131363.jpg\n",
            "Found 7177 images belonging to 7 classes.\n"
          ]
        },
        {
          "output_type": "stream",
          "name": "stderr",
          "text": [
            "/usr/local/lib/python3.10/dist-packages/keras/src/trainers/data_adapters/py_dataset_adapter.py:122: UserWarning: Your `PyDataset` class should call `super().__init__(**kwargs)` in its constructor. `**kwargs` can include `workers`, `use_multiprocessing`, `max_queue_size`. Do not pass these arguments to `fit()`, as they will be ignored.\n",
            "  self._warn_if_super_not_called()\n"
          ]
        },
        {
          "output_type": "stream",
          "name": "stdout",
          "text": [
            "\u001b[1m112/112\u001b[0m \u001b[32m━━━━━━━━━━━━━━━━━━━━\u001b[0m\u001b[37m\u001b[0m \u001b[1m23s\u001b[0m 181ms/step - accuracy: 0.4901 - loss: 1.3023\n",
            "Test Loss: 1.2017\n",
            "Test Accuracy: 54.16%\n"
          ]
        }
      ]
    },
    {
      "cell_type": "code",
      "source": [
        "import matplotlib.pyplot as plt  # Importing the matplotlib library for plotting images\n",
        "\n",
        "# Reset the test generator for fresh predictions\n",
        "# This ensures that we are starting from the first batch in the test set\n",
        "test_generator.reset()\n",
        "\n",
        "# Fetch a batch of data from the test generator\n",
        "# This will return a batch of images and their corresponding labels\n",
        "images, labels = next(test_generator)\n",
        "\n",
        "# Make predictions using the model on the batch of images\n",
        "# The model outputs probabilities for each class, so we need to take the class with the highest probability\n",
        "predictions = model.predict(images)\n",
        "\n",
        "# Convert the predicted probabilities to class labels by taking the index of the highest probability for each image\n",
        "# np.argmax returns the index of the maximum value along an axis, in this case, the axis of class probabilities (axis=1)\n",
        "predicted_classes = np.argmax(predictions, axis=1)\n",
        "\n",
        "# Convert the true labels from one-hot encoding to class indices (from one-hot vectors to integers)\n",
        "# np.argmax is used here to get the index of the '1' in each one-hot vector, which corresponds to the true class label\n",
        "true_classes = np.argmax(labels, axis=1)\n",
        "\n",
        "# Get the class labels from the test generator's 'class_indices' dictionary\n",
        "# This will give us the class names corresponding to the integer class indices\n",
        "class_labels = list(test_generator.class_indices.keys())\n",
        "\n",
        "# Plot some images with predictions\n",
        "plt.figure(figsize=(10, 10))  # Create a figure with a size of 10x10 inches for a large grid\n",
        "\n",
        "# Loop through the first 9 images in the batch (for visualization purposes)\n",
        "for i in range(9):\n",
        "    # Create a subplot for each image (3x3 grid)\n",
        "    plt.subplot(3, 3, i + 1)\n",
        "\n",
        "    # Display the image in grayscale (reshaped to 48x48 for proper display)\n",
        "    plt.imshow(images[i].reshape(48, 48), cmap='gray')\n",
        "\n",
        "    # Set the title to show the true and predicted class labels for the current image\n",
        "    plt.title(f\"True: {class_labels[true_classes[i]]}\\nPred: {class_labels[predicted_classes[i]]}\")\n",
        "\n",
        "    # Hide the axes for a cleaner image display\n",
        "    plt.axis('off')\n",
        "\n",
        "# Adjust layout to make sure there's no overlap between the subplots\n",
        "plt.tight_layout()\n",
        "\n",
        "# Show the plot with all the images and their predictions\n",
        "plt.show()\n"
      ],
      "metadata": {
        "colab": {
          "base_uri": "https://localhost:8080/",
          "height": 1000
        },
        "id": "FYcUMzmOQdb_",
        "outputId": "5856ae10-3183-4318-b33e-3c13919f5b34"
      },
      "execution_count": null,
      "outputs": [
        {
          "output_type": "stream",
          "name": "stdout",
          "text": [
            "\u001b[1m2/2\u001b[0m \u001b[32m━━━━━━━━━━━━━━━━━━━━\u001b[0m\u001b[37m\u001b[0m \u001b[1m1s\u001b[0m 5ms/step  \n"
          ]
        },
        {
          "output_type": "display_data",
          "data": {
            "text/plain": [
              "<Figure size 1000x1000 with 9 Axes>"
            ],
            "image/png": "[encoded data removed]"
          },
          "metadata": {}
        }
      ]
    },
    {
      "cell_type": "code",
      "source": [],
      "metadata": {
        "id": "4lLvXusIQhTi"
      },
      "execution_count": null,
      "outputs": []
    }
  ]
}